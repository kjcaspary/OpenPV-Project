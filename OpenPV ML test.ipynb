{
 "cells": [
  {
   "cell_type": "code",
   "execution_count": 1,
   "metadata": {},
   "outputs": [],
   "source": [
    "import pandas\n",
    "import numpy\n",
    "import datetime\n",
    "import sklearn\n",
    "import matplotlib.pyplot as pyplot"
   ]
  },
  {
   "cell_type": "code",
   "execution_count": 2,
   "metadata": {},
   "outputs": [],
   "source": [
    "df = pandas.read_csv('openpv_all.csv',engine='python')\n"
   ]
  },
  {
   "cell_type": "code",
   "execution_count": 3,
   "metadata": {},
   "outputs": [],
   "source": [
    "df['date'] = pandas.to_datetime(df['date_installed']).apply(lambda dt: dt.replace(day=15))"
   ]
  },
  {
   "cell_type": "code",
   "execution_count": 4,
   "metadata": {},
   "outputs": [],
   "source": [
    "df['year'] = df['date_installed'].str.slice(-4).astype(float)\n",
    "df['count'] = 1.\n",
    "df['rebates']=df['rebate'].str.strip('$-').str.replace(',','').astype(float)\n",
    "df['pct_reported_prod'] = 100*df.reported_annual_energy_prod/df.annual_PV_prod\n",
    "df['install_type'] = df['install_type'].str.lower().str.split().str[0]\n",
    "df['state'] = df['state'].str.strip()"
   ]
  },
  {
   "cell_type": "code",
   "execution_count": 5,
   "metadata": {},
   "outputs": [],
   "source": [
    "#df.loc[283482]\n",
    "#stateinsol['StateID'].value_counts()"
   ]
  },
  {
   "cell_type": "code",
   "execution_count": 6,
   "metadata": {},
   "outputs": [],
   "source": [
    "stateinsol = pandas.read_csv('stateinsolations.csv')\n",
    "stateinsol.head()\n",
    "\n",
    "def NewInsol(x):\n",
    "    if numpy.isnan(x['annual_insolation']):\n",
    "        temp_ = stateinsol[(stateinsol['StateID'] == x['state'])]['Insolation']\n",
    "        return temp_.item()\n",
    "         \n",
    "    else:\n",
    "        return x['annual_insolation']\n",
    "df['new_insolation'] = df[['annual_insolation','state']].apply(NewInsol,axis=1)"
   ]
  },
  {
   "cell_type": "code",
   "execution_count": 35,
   "metadata": {},
   "outputs": [
    {
     "name": "stdout",
     "output_type": "stream",
     "text": [
      "  StateID  Insolation\n",
      "0      AL        5.12\n",
      "1      AK         NaN\n",
      "2      AZ        6.58\n",
      "3      AR        5.01\n",
      "4      CA        6.08\n"
     ]
    }
   ],
   "source": [
    "print stateinsol.head()"
   ]
  },
  {
   "cell_type": "code",
   "execution_count": 7,
   "metadata": {},
   "outputs": [],
   "source": [
    "from pandas import DataFrame\n",
    "from pandas import concat\n",
    "\n",
    "def series_to_supervised(data, n_in=1, n_out=1, dropnan=True):\n",
    "    \"\"\"\n",
    "    Frame a time series as a supervised learning dataset.\n",
    "    Arguments:\n",
    "        data: Sequence of observations as a list or NumPy array.\n",
    "        n_in: Number of lag observations as input (X).\n",
    "        n_out: Number of observations as output (y).\n",
    "        dropnan: Boolean whether or not to drop rows with NaN values.\n",
    "    Returns:\n",
    "        Pandas DataFrame of series framed for supervised learning.\n",
    "    \"\"\"\n",
    "    n_vars = 1 if type(data) is list else data.shape[1]\n",
    "    df = DataFrame(data)\n",
    "    cols, names = list(), list()\n",
    "    # input sequence (t-n, ... t-1)\n",
    "    for i in range(n_in, 0, -1):\n",
    "        cols.append(df.shift(i))\n",
    "        names += [('var%d(t-%d)' % (j+1, i)) for j in range(n_vars)]\n",
    "    # forecast sequence (t, t+1, ... t+n)\n",
    "    for i in range(0, n_out):\n",
    "        cols.append(df.shift(-i))\n",
    "        if i == 0:\n",
    "            names += [('var%d(t)' % (j+1)) for j in range(n_vars)]\n",
    "        else:\n",
    "            names += [('var%d(t+%d)' % (j+1, i)) for j in range(n_vars)]\n",
    "    # put it all together\n",
    "    agg = concat(cols, axis=1)\n",
    "    agg.columns = names\n",
    "    # drop rows with NaN values\n",
    "    if dropnan:\n",
    "        agg.dropna(inplace=True)\n",
    "    return agg\n",
    "\n",
    "\n",
    "raw = DataFrame()\n",
    "raw['ob1'] = [x for x in range(10)]\n",
    "raw['ob2'] = [x for x in range(50, 60)]\n",
    "values = raw.values\n",
    "data = series_to_supervised(values, 5, 1)\n"
   ]
  },
  {
   "cell_type": "code",
   "execution_count": 8,
   "metadata": {},
   "outputs": [
    {
     "name": "stdout",
     "output_type": "stream",
     "text": [
      "CA\n",
      "189\n"
     ]
    }
   ],
   "source": [
    "raw = DataFrame()\n",
    "this_state = df['state'].value_counts().index[0]\n",
    "print this_state\n",
    "raw['cost']=df[(df['state']==this_state)&(df['year']>=2000)&(df['year']<=2015)].groupby(['date']).sum()['cost']\n",
    "raw['rebates']=df[(df['state']==this_state)&(df['year']>=2000)&(df['year']<=2015)].groupby(['date']).sum()['rebates']\n",
    "raw['size_kw']=df[(df['state']==this_state)&(df['year']>=2000)&(df['year']<=2015)].groupby(['date']).sum()['size_kw']\n",
    "raw['new_insolation']=df[(df['state']==this_state)&(df['year']>=2000)&(df['year']<=2015)].groupby(['date']).mean()['new_insolation']\n",
    "#raw['cost_per_watt']=df[(df['state']==this_state)&(df['year']>=2000)&(df['year']<=2015)].groupby(['date']).mean()['cost_per_watt']\n",
    "raw['cost_per_watt'] = raw['cost']/raw['size_kw']*1000.\n",
    "values = raw.values\n",
    "pastnum = 3\n",
    "data = series_to_supervised(values,pastnum,1)\n",
    "#data['cost_per_watt']=df[(df['state']==this_state)&(df['year']>=2000)&(df['year']<=2015)].groupby(['date']).mean()['cost_per_watt']\n",
    "#data['new_insolation']=df[(df['state']==this_state)&(df['year']>=2000)&(df['year']<=2015)].groupby(['date']).mean()['new_insolation']\n",
    "\n",
    "print data.shape[0]\n",
    "mindat = pastnum+1\n",
    "maxdat = data.shape[0]\n"
   ]
  },
  {
   "cell_type": "code",
   "execution_count": 9,
   "metadata": {},
   "outputs": [],
   "source": [
    "from sklearn.metrics import mean_squared_log_error\n",
    "def rmsle(ytrue, ypred):\n",
    "    return numpy.sqrt(mean_squared_log_error(ytrue, ypred))"
   ]
  },
  {
   "cell_type": "code",
   "execution_count": 10,
   "metadata": {},
   "outputs": [
    {
     "name": "stdout",
     "output_type": "stream",
     "text": [
      "year 5 - Error 0.42122\n",
      "year 10 - Error 0.16280\n",
      "year 15 - Error 0.40340\n",
      "year 20 - Error 0.36385\n",
      "year 25 - Error 0.16293\n",
      "year 30 - Error 0.07199\n",
      "year 35 - Error 0.47475\n",
      "year 40 - Error 0.48170\n",
      "year 45 - Error 0.22927\n",
      "year 50 - Error 0.58501\n",
      "year 55 - Error 0.25308\n",
      "year 60 - Error 0.33783\n",
      "year 65 - Error 0.33180\n",
      "year 70 - Error 0.45277\n",
      "year 75 - Error 0.00740\n",
      "year 80 - Error 0.30347\n",
      "year 85 - Error 0.14935\n",
      "year 90 - Error 0.05960\n",
      "year 95 - Error 0.06280\n",
      "year 100 - Error 0.56974\n",
      "year 105 - Error 0.29327\n",
      "year 110 - Error 0.51224\n",
      "year 115 - Error 0.19052\n",
      "year 120 - Error 0.15946\n",
      "year 125 - Error 0.37543\n",
      "year 130 - Error 0.08081\n",
      "year 135 - Error 0.08164\n",
      "year 140 - Error 0.17085\n",
      "year 145 - Error 0.43745\n",
      "year 150 - Error 0.09682\n",
      "year 155 - Error 0.47624\n",
      "year 160 - Error 0.09411\n",
      "year 165 - Error 0.14878\n",
      "year 170 - Error 0.06955\n",
      "year 175 - Error 0.45581\n",
      "year 180 - Error 0.17968\n",
      "year 185 - Error 0.23991\n",
      "Mean Error = 0.26885\n"
     ]
    }
   ],
   "source": [
    "mean_error = []\n",
    "for year in range(mindat+1,maxdat,5):\n",
    "    train = data[data.index < year]\n",
    "    val = data[data.index == year]\n",
    "    \n",
    "    p = val['var1(t-1)'].values\n",
    "    \n",
    "    error = rmsle(val['var1(t)'].values, p)\n",
    "    print('year %d - Error %.5f' % (year, error))\n",
    "    mean_error.append(error)\n",
    "print('Mean Error = %.5f' % numpy.mean(mean_error))"
   ]
  },
  {
   "cell_type": "code",
   "execution_count": 11,
   "metadata": {},
   "outputs": [
    {
     "name": "stdout",
     "output_type": "stream",
     "text": [
      "Week 5 - Error 0.11377\n",
      "Week 10 - Error 0.09762\n",
      "Week 15 - Error 0.20175\n",
      "Week 20 - Error 0.00966\n",
      "Week 25 - Error 0.11462\n",
      "Week 30 - Error 0.07139\n",
      "Week 35 - Error 0.24704\n",
      "Week 40 - Error 0.09306\n",
      "Week 45 - Error 0.13029\n",
      "Week 50 - Error 0.30314\n",
      "Week 55 - Error 0.10079\n",
      "Week 60 - Error 0.08520\n",
      "Week 65 - Error 0.07483\n",
      "Week 70 - Error 0.01247\n",
      "Week 75 - Error 0.01095\n",
      "Week 80 - Error 0.16984\n",
      "Week 85 - Error 0.08723\n",
      "Week 90 - Error 0.10355\n",
      "Week 95 - Error 0.02746\n",
      "Week 100 - Error 0.15617\n",
      "Week 105 - Error 0.06616\n",
      "Week 110 - Error 0.03403\n",
      "Week 115 - Error 0.01486\n",
      "Week 120 - Error 0.20162\n",
      "Week 125 - Error 0.09317\n",
      "Week 130 - Error 0.11845\n",
      "Week 135 - Error 0.23788\n",
      "Week 140 - Error 0.56792\n",
      "Week 145 - Error 0.12004\n",
      "Week 150 - Error 0.08177\n",
      "Week 155 - Error 0.10016\n",
      "Week 160 - Error 0.07659\n",
      "Week 165 - Error 0.25119\n",
      "Week 170 - Error 0.00299\n",
      "Week 175 - Error 0.52045\n",
      "Week 180 - Error 0.05238\n",
      "Week 185 - Error 0.28322\n",
      "Mean Error = 0.13605\n"
     ]
    }
   ],
   "source": [
    "from sklearn.linear_model import LogisticRegression\n",
    "from sklearn.linear_model import Ridge, SGDRegressor\n",
    "from sklearn.ensemble import RandomForestRegressor, GradientBoostingRegressor\n",
    "from sklearn.linear_model import LinearRegression\n",
    "from sklearn.neighbors import KNeighborsRegressor\n",
    "\n",
    "mean_error = []\n",
    "for year in range(mindat+1,maxdat,5):\n",
    "    train = data[data.index < year]\n",
    "    val = data[data.index == year]\n",
    "    \n",
    "    xtr, xts = train.drop(['var1(t)'], axis=1), val.drop(['var1(t)'], axis=1)\n",
    "    ytr, yts = train['var1(t)'].values, val['var1(t)'].values\n",
    "    \n",
    "#    mdl = RandomForestRegressor(n_estimators=1000, n_jobs=-1, random_state=0)\n",
    "#    mdl = Ridge()\n",
    "    mdl = GradientBoostingRegressor(n_estimators=1000, learning_rate=0.01)\n",
    "    mdl.fit(xtr, ytr)\n",
    "    \n",
    "    p = mdl.predict(xts)\n",
    "    \n",
    "    error = rmsle(yts, p)\n",
    "    print('Week %d - Error %.5f' % (year, error))\n",
    "    mean_error.append(error)\n",
    "print('Mean Error = %.5f' % numpy.mean(mean_error))"
   ]
  },
  {
   "cell_type": "code",
   "execution_count": 12,
   "metadata": {},
   "outputs": [
    {
     "name": "stdout",
     "output_type": "stream",
     "text": [
      "rebate 10000 - change 54259.45297\n",
      "rebate 20000 - change 162778.35892\n",
      "rebate 30000 - change 325556.71784\n",
      "rebate 40000 - change 542594.52973\n",
      "rebate 50000 - change 813891.79460\n",
      "rebate 60000 - change 1139448.51244\n",
      "rebate 70000 - change 1519264.68325\n",
      "rebate 80000 - change 1953340.30704\n",
      "rebate 90000 - change 2441675.38379\n",
      "rebate 100000 - change 2984269.91353\n"
     ]
    },
    {
     "name": "stderr",
     "output_type": "stream",
     "text": [
      "C:\\ProgramData\\Anaconda2\\lib\\site-packages\\sklearn\\linear_model\\ridge.py:112: LinAlgWarning: scipy.linalg.solve\n",
      "Ill-conditioned matrix detected. Result is not guaranteed to be accurate.\n",
      "Reciprocal condition number1.266888e-19\n",
      "  overwrite_a=True).T\n"
     ]
    }
   ],
   "source": [
    "from sklearn.linear_model import LogisticRegression\n",
    "from sklearn.linear_model import Ridge, SGDRegressor\n",
    "from sklearn.ensemble import RandomForestRegressor, GradientBoostingRegressor\n",
    "from sklearn.linear_model import LinearRegression\n",
    "from sklearn.neighbors import KNeighborsRegressor\n",
    "\n",
    "mean_error = []\n",
    "train = data[data.index < maxdat]\n",
    "val = data[data.index == maxdat]\n",
    "    \n",
    "xtr, xts = train.drop(['var1(t)'], axis=1), val.drop(['var1(t)'], axis=1)\n",
    "ytr, yts = train['var1(t)'].values, val['var1(t)'].values\n",
    "    \n",
    "#    mdl = RandomForestRegressor(n_estimators=1000, n_jobs=-1, random_state=0)\n",
    "mdl = Ridge()\n",
    "#mdl = GradientBoostingRegressor(n_estimators=1000, learning_rate=0.01)\n",
    "mdl.fit(xtr, ytr)\n",
    "p0 = mdl.predict(xts)\n",
    "\n",
    "for rebate in range(10000,110000,10000):\n",
    "    oldreb0 = xts['var2(t)']\n",
    "#    oldreb1 = xts['var2(t-1)']\n",
    "#    oldreb2 = xts['var2(t-2)']\n",
    "#    oldreb3 = xts['var2(t-3)']\n",
    "#    oldreb4 = xts['var2(t-4)']\n",
    "#    oldreb5 = xts['var2(t-5)']\n",
    "    xts['var2(t)'] = oldreb0 + rebate*1\n",
    "#    xts['var2(t-1)'] = oldreb1 + rebate*1\n",
    "#    xts['var2(t-2)'] = oldreb2 + rebate*1\n",
    "#    xts['var2(t-3)'] = oldreb3 + rebate*1\n",
    "#    xts['var2(t-4)'] = oldreb4 + rebate*1\n",
    "#    xts['var2(t-5)'] = oldreb5 + rebate*1\n",
    "    \n",
    "\n",
    "    p = mdl.predict(xts)\n",
    "    \n",
    "    change  = p-p0\n",
    "    print('rebate %d - change %.5f' % (rebate, change))\n"
   ]
  },
  {
   "cell_type": "code",
   "execution_count": 13,
   "metadata": {},
   "outputs": [
    {
     "data": {
      "text/html": [
       "<div>\n",
       "<style scoped>\n",
       "    .dataframe tbody tr th:only-of-type {\n",
       "        vertical-align: middle;\n",
       "    }\n",
       "\n",
       "    .dataframe tbody tr th {\n",
       "        vertical-align: top;\n",
       "    }\n",
       "\n",
       "    .dataframe thead th {\n",
       "        text-align: right;\n",
       "    }\n",
       "</style>\n",
       "<table border=\"1\" class=\"dataframe\">\n",
       "  <thead>\n",
       "    <tr style=\"text-align: right;\">\n",
       "      <th></th>\n",
       "      <th>Fips</th>\n",
       "      <th>Name</th>\n",
       "      <th>State</th>\n",
       "      <th>Energy</th>\n",
       "      <th>Population</th>\n",
       "      <th>Area</th>\n",
       "      <th>1997</th>\n",
       "      <th>1998</th>\n",
       "      <th>1999</th>\n",
       "      <th>2000</th>\n",
       "      <th>...</th>\n",
       "      <th>2008</th>\n",
       "      <th>2009</th>\n",
       "      <th>2010</th>\n",
       "      <th>2011</th>\n",
       "      <th>2012</th>\n",
       "      <th>2013</th>\n",
       "      <th>2014</th>\n",
       "      <th>2015</th>\n",
       "      <th>2016</th>\n",
       "      <th>2017</th>\n",
       "    </tr>\n",
       "  </thead>\n",
       "  <tbody>\n",
       "    <tr>\n",
       "      <th>0</th>\n",
       "      <td>1000</td>\n",
       "      <td>Alabama</td>\n",
       "      <td>AL</td>\n",
       "      <td>398.0</td>\n",
       "      <td>4780127.0</td>\n",
       "      <td>50645.33</td>\n",
       "      <td>104218</td>\n",
       "      <td>109414</td>\n",
       "      <td>115015</td>\n",
       "      <td>119020</td>\n",
       "      <td>...</td>\n",
       "      <td>172646</td>\n",
       "      <td>168315</td>\n",
       "      <td>174710</td>\n",
       "      <td>180665</td>\n",
       "      <td>185878</td>\n",
       "      <td>190319</td>\n",
       "      <td>193966</td>\n",
       "      <td>199804</td>\n",
       "      <td>204201</td>\n",
       "      <td>210954</td>\n",
       "    </tr>\n",
       "    <tr>\n",
       "      <th>1</th>\n",
       "      <td>2000</td>\n",
       "      <td>Alaska</td>\n",
       "      <td>AK</td>\n",
       "      <td>809.0</td>\n",
       "      <td>710249.0</td>\n",
       "      <td>570640.95</td>\n",
       "      <td>25446</td>\n",
       "      <td>24030</td>\n",
       "      <td>24684</td>\n",
       "      <td>26853</td>\n",
       "      <td>...</td>\n",
       "      <td>55461</td>\n",
       "      <td>50463</td>\n",
       "      <td>54134</td>\n",
       "      <td>58759</td>\n",
       "      <td>60890</td>\n",
       "      <td>59808</td>\n",
       "      <td>58192</td>\n",
       "      <td>52448</td>\n",
       "      <td>50542</td>\n",
       "      <td>52789</td>\n",
       "    </tr>\n",
       "    <tr>\n",
       "      <th>2</th>\n",
       "      <td>4000</td>\n",
       "      <td>Arizona</td>\n",
       "      <td>AZ</td>\n",
       "      <td>213.0</td>\n",
       "      <td>6392307.0</td>\n",
       "      <td>113594.08</td>\n",
       "      <td>132708</td>\n",
       "      <td>143768</td>\n",
       "      <td>156145</td>\n",
       "      <td>165912</td>\n",
       "      <td>...</td>\n",
       "      <td>256718</td>\n",
       "      <td>242509</td>\n",
       "      <td>245668</td>\n",
       "      <td>254192</td>\n",
       "      <td>264693</td>\n",
       "      <td>270469</td>\n",
       "      <td>281069</td>\n",
       "      <td>293318</td>\n",
       "      <td>304357</td>\n",
       "      <td>319850</td>\n",
       "    </tr>\n",
       "    <tr>\n",
       "      <th>3</th>\n",
       "      <td>5000</td>\n",
       "      <td>Arkansas</td>\n",
       "      <td>AR</td>\n",
       "      <td>354.0</td>\n",
       "      <td>2915958.0</td>\n",
       "      <td>52035.48</td>\n",
       "      <td>60417</td>\n",
       "      <td>62275</td>\n",
       "      <td>66715</td>\n",
       "      <td>68809</td>\n",
       "      <td>...</td>\n",
       "      <td>99838</td>\n",
       "      <td>98020</td>\n",
       "      <td>102951</td>\n",
       "      <td>107287</td>\n",
       "      <td>109226</td>\n",
       "      <td>114456</td>\n",
       "      <td>117953</td>\n",
       "      <td>119081</td>\n",
       "      <td>121275</td>\n",
       "      <td>124918</td>\n",
       "    </tr>\n",
       "    <tr>\n",
       "      <th>4</th>\n",
       "      <td>6000</td>\n",
       "      <td>California</td>\n",
       "      <td>CA</td>\n",
       "      <td>199.0</td>\n",
       "      <td>37252895.0</td>\n",
       "      <td>155779.22</td>\n",
       "      <td>1081444</td>\n",
       "      <td>1151119</td>\n",
       "      <td>1248006</td>\n",
       "      <td>1362995</td>\n",
       "      <td>...</td>\n",
       "      <td>1983926</td>\n",
       "      <td>1912115</td>\n",
       "      <td>1965886</td>\n",
       "      <td>2036297</td>\n",
       "      <td>2131199</td>\n",
       "      <td>2223892</td>\n",
       "      <td>2358920</td>\n",
       "      <td>2510167</td>\n",
       "      <td>2619639</td>\n",
       "      <td>2746873</td>\n",
       "    </tr>\n",
       "  </tbody>\n",
       "</table>\n",
       "<p>5 rows × 27 columns</p>\n",
       "</div>"
      ],
      "text/plain": [
       "   Fips        Name State  Energy  Population       Area     1997     1998  \\\n",
       "0  1000     Alabama    AL   398.0   4780127.0   50645.33   104218   109414   \n",
       "1  2000      Alaska    AK   809.0    710249.0  570640.95    25446    24030   \n",
       "2  4000     Arizona    AZ   213.0   6392307.0  113594.08   132708   143768   \n",
       "3  5000    Arkansas    AR   354.0   2915958.0   52035.48    60417    62275   \n",
       "4  6000  California    CA   199.0  37252895.0  155779.22  1081444  1151119   \n",
       "\n",
       "      1999     2000   ...        2008     2009     2010     2011     2012  \\\n",
       "0   115015   119020   ...      172646   168315   174710   180665   185878   \n",
       "1    24684    26853   ...       55461    50463    54134    58759    60890   \n",
       "2   156145   165912   ...      256718   242509   245668   254192   264693   \n",
       "3    66715    68809   ...       99838    98020   102951   107287   109226   \n",
       "4  1248006  1362995   ...     1983926  1912115  1965886  2036297  2131199   \n",
       "\n",
       "      2013     2014     2015     2016     2017  \n",
       "0   190319   193966   199804   204201   210954  \n",
       "1    59808    58192    52448    50542    52789  \n",
       "2   270469   281069   293318   304357   319850  \n",
       "3   114456   117953   119081   121275   124918  \n",
       "4  2223892  2358920  2510167  2619639  2746873  \n",
       "\n",
       "[5 rows x 27 columns]"
      ]
     },
     "execution_count": 13,
     "metadata": {},
     "output_type": "execute_result"
    }
   ],
   "source": [
    "stateinfo = pandas.read_csv('stategdp.csv')\n",
    "stateinfo.head()"
   ]
  },
  {
   "cell_type": "code",
   "execution_count": 14,
   "metadata": {},
   "outputs": [
    {
     "name": "stdout",
     "output_type": "stream",
     "text": [
      "CA 2510167 37252895.0 58307.0\n",
      "AZ 293318 6392307.0 62409.0\n",
      "MA 490402 6547817.0 61237.0\n",
      "NJ 563616 8791936.0 72371.0\n",
      "NY 1458253 19378087.0 54205.0\n",
      "CT 253467 3574118.0 59186.0\n",
      "NV 142081 2700691.0 67683.0\n",
      "TX 1611958 25146105.0 138296.0\n",
      "PA 709722 12702887.0 86142.0\n",
      "MD 365162 5773785.0 66218.0\n",
      "NM 92987 2059192.0 93760.0\n",
      "MO 291764 5988927.0 85556.0\n",
      "DE 69893 897936.0 84091.0\n",
      "OR 215940 3831073.0 70027.0\n",
      "NH 75162 1316466.0 65925.0\n",
      "WI 303826 5687289.0 90537.0\n",
      "FL 890884 18804623.0 60065.0\n",
      "CO 315621 5029324.0 78524.0\n",
      "HI 81900 1360301.0 58014.0\n",
      "OH 611350 11536725.0 92881.0\n",
      "VT 30299 625745.0 60358.0\n",
      "MN 326221 5303925.0 97569.0\n",
      "IL 778353 12831549.0 89072.0\n",
      "IN 333436 6484229.0 123646.0\n",
      "UT 149515 2763888.0 77938.0\n",
      "ME 57242 1328361.0 85556.0\n",
      "TN 317325 6346275.0 97569.0\n",
      "RI 56197 1052931.0 51568.0\n",
      "LA 242059 4533479.0 262821.0\n",
      "MI 470289 9334129.0 81161.0\n",
      "AR 119081 2915958.0 103722.0\n",
      "WA 453186 6724543.0 82919.0\n",
      "IA 180511 3046869.0 143277.0\n",
      "WY 39474 563767.0 251980.0\n",
      "SC 202807 4625401.0 97569.0\n",
      "WV 72583 1853011.0 122767.0\n",
      "NC 502077 9535692.0 73543.0\n",
      "MS 106207 2968927.0 114563.0\n",
      "VA 479669 8001045.0 81161.0\n",
      "MT 46179 989417.0 111340.0\n",
      "GA 505693 9688681.0 80575.0\n",
      "ID 65670 1567652.0 92295.0\n",
      "KY 190832 4339349.0 112512.0\n",
      "AL 199804 4780127.0 116614.0\n",
      "KS 151677 2853132.0 110168.0\n",
      "AK 52448 710249.0 237037.0\n",
      "NE 116111 1826341.0 133315.0\n",
      "SD 47231 814191.0 130385.0\n",
      "OK 189612 3751616.0 122181.0\n",
      "ND 56253 672591.0 227368.0\n",
      "     var1(t-12)  var2(t-12)    var3(t-12)  var4(t-12)     var5(t-12)  \\\n",
      "162    1.765185    0.171279  2.638639e-08    0.000004  240331.208327   \n",
      "\n",
      "       var6(t-12)  var1(t-11)  var2(t-11)    var3(t-11)  var4(t-11)  \\\n",
      "162  6.689755e+10    0.828732    0.088196  1.652362e-08    0.000002   \n",
      "\n",
      "         ...          var3(t-1)  var4(t-1)      var5(t-1)     var6(t-1)  \\\n",
      "162      ...       4.858988e-08   0.000007  239603.873875  5.486878e+10   \n",
      "\n",
      "      var1(t)   var2(t)       var3(t)   var4(t)        var5(t)       var6(t)  \n",
      "162  3.381424  0.326735  6.455265e-08  0.000008  239739.309333  5.238243e+10  \n",
      "\n",
      "[1 rows x 78 columns]\n",
      "3843\n"
     ]
    }
   ],
   "source": [
    "raw = DataFrame()\n",
    "testing = {}\n",
    "testtest = {}\n",
    "for state in df['state'].value_counts().index:\n",
    "    if state == 'DC' or state == 'PR':\n",
    "        continue\n",
    "    temp = DataFrame()\n",
    "    this_state = state\n",
    "    population = stateinfo[(stateinfo['State']==this_state)]['Population']\n",
    "    gdp = stateinfo[(stateinfo['State']==this_state)]['2015']\n",
    "    energy = stateinfo[(stateinfo['State']==this_state)]['Energy']*0.000293*1e6\n",
    "    area = stateinfo[(stateinfo['State']==this_state)]['Area']\n",
    "\n",
    "    print this_state,gdp.values[0], population.values[0],energy.values[0]\n",
    "    temp['cost']=df[(df['state']==this_state)&(df['year']>=2000)&(df['year']<=2015)].groupby(['date']).sum()['cost']\n",
    "    temp['cost'] = temp['cost']/gdp.values\n",
    "    temp['rebates']=df[(df['state']==this_state)&(df['year']>=2000)&(df['year']<=2015)].groupby(['date']).sum()['rebates']\n",
    "    temp['rebates'] = temp['rebates']/gdp.values\n",
    "    temp['size_kw']=df[(df['state']==this_state)&(df['year']>=2000)&(df['year']<=2015)].groupby(['date']).sum()['size_kw']\n",
    "    temp['size_kw'] = temp['size_kw']/energy.values/area.values\n",
    "    temp['count']=df[(df['state']==this_state)&(df['year']>=2000)&(df['year']<=2015)].groupby(['date']).sum()['count']\n",
    "    temp['count']= temp['count']/population.values    \n",
    "    temp['new_insolation']=df[(df['state']==this_state)&(df['year']>=2000)&(df['year']<=2015)].groupby(['date']).mean()['new_insolation']\n",
    "    temp['new_insolation'] = temp['new_insolation']*area.values\n",
    "    #raw['cost_per_watt']=df[(df['state']==this_state)&(df['year']>=2000)&(df['year']<=2015)].groupby(['date']).mean()['cost_per_watt']\n",
    "    temp['cost_per_watt'] = temp['cost']/temp['size_kw']*1000.\n",
    "    values = temp.values\n",
    "    pastnum = 12\n",
    "    data = series_to_supervised(values,pastnum,1)\n",
    "    if this_state == 'CA':\n",
    "        raw = DataFrame(data)\n",
    "    else:\n",
    "        raw = raw.append(DataFrame(data))\n",
    "#    print raw[-1:]\n",
    "    testtest[state] = raw[-2:-1]\n",
    "    testing[state] = raw[-1:]\n",
    "print testing['WI']\n",
    "raw.index = pandas.RangeIndex(len(raw.index))\n",
    "\n",
    "#data['cost_per_watt']=df[(df['state']==this_state)&(df['year']>=2000)&(df['year']<=2015)].groupby(['date']).mean()['cost_per_watt']\n",
    "#data['new_insolation']=df[(df['state']==this_state)&(df['year']>=2000)&(df['year']<=2015)].groupby(['date']).mean()['new_insolation']\n",
    "#print raw.head()\n",
    "print raw.shape[0]\n",
    "mindat = pastnum+1\n",
    "maxdat = raw.shape[0]\n"
   ]
  },
  {
   "cell_type": "code",
   "execution_count": 15,
   "metadata": {},
   "outputs": [],
   "source": [
    "from sklearn.metrics import mean_squared_log_error, mean_squared_error\n",
    "def rmsle(ytrue, ypred):\n",
    "    return numpy.sqrt(mean_squared_log_error(ytrue, ypred))\n",
    "\n",
    "def rmse(ytrue, ypred):\n",
    "    return numpy.sqrt(mean_squared_error(ytrue, ypred))"
   ]
  },
  {
   "cell_type": "code",
   "execution_count": 16,
   "metadata": {},
   "outputs": [
    {
     "name": "stdout",
     "output_type": "stream",
     "text": [
      "13 3843\n",
      "index 14 - Error 4.33413\n",
      "index 64 - Error 34.34874\n",
      "index 114 - Error 32.19165\n",
      "index 164 - Error 22.55992\n",
      "index 214 - Error 30.98066\n",
      "index 264 - Error 232.43046\n",
      "index 314 - Error 41.63808\n",
      "index 364 - Error 8.21483\n",
      "index 414 - Error 111.02416\n",
      "index 464 - Error 197.01210\n",
      "index 514 - Error 17.57901\n",
      "index 564 - Error 42.81728\n",
      "index 614 - Error 0.24000\n",
      "index 664 - Error 0.67013\n",
      "index 714 - Error 4.95443\n",
      "index 764 - Error 11.56240\n",
      "index 814 - Error 51.37969\n",
      "index 864 - Error 28.83855\n",
      "index 914 - Error 14.72230\n",
      "index 964 - Error 157.83869\n",
      "index 1014 - Error 44.09997\n",
      "index 1064 - Error 0.34914\n",
      "index 1114 - Error 20.33608\n",
      "index 1164 - Error 0.61738\n",
      "index 1214 - Error 22.24520\n",
      "index 1264 - Error 4.71273\n",
      "index 1314 - Error 4.93845\n",
      "index 1364 - Error 36.63374\n",
      "index 1414 - Error 24.83350\n",
      "index 1464 - Error 22.23366\n",
      "index 1514 - Error 3.77659\n",
      "index 1564 - Error 0.82951\n",
      "index 1614 - Error 12.35870\n",
      "index 1664 - Error 204.18378\n",
      "index 1714 - Error 16.66782\n",
      "index 1764 - Error 7.34102\n",
      "index 1814 - Error 38.69701\n",
      "index 1864 - Error 4.89392\n",
      "index 1914 - Error 12.17177\n",
      "index 1964 - Error 23.06937\n",
      "index 2014 - Error 1.53940\n",
      "index 2064 - Error 4.19956\n",
      "index 2114 - Error 0.76729\n",
      "index 2164 - Error 40.07339\n",
      "index 2214 - Error 5.17771\n",
      "index 2264 - Error 34.97627\n",
      "index 2314 - Error 11.50717\n",
      "index 2364 - Error 0.08728\n",
      "index 2414 - Error 1.68241\n",
      "index 2464 - Error 13.20685\n",
      "index 2514 - Error 0.28411\n",
      "index 2564 - Error 4.92314\n",
      "index 2614 - Error 156.69945\n",
      "index 2664 - Error 147.17489\n",
      "index 2714 - Error 2.83771\n",
      "index 2764 - Error 4.38970\n",
      "index 2814 - Error 0.34525\n",
      "index 2864 - Error 3.33840\n",
      "index 2914 - Error 1.12599\n",
      "index 2964 - Error 12.71125\n",
      "index 3014 - Error 1.30883\n",
      "index 3064 - Error 5.63638\n",
      "index 3114 - Error 9.23142\n",
      "index 3164 - Error 4.00045\n",
      "index 3214 - Error 5.22946\n",
      "index 3264 - Error 7.86376\n",
      "index 3314 - Error 31.55206\n",
      "index 3364 - Error 0.78738\n",
      "index 3414 - Error 2.39701\n",
      "index 3464 - Error 0.99330\n",
      "index 3514 - Error 3.31627\n",
      "index 3564 - Error 2.33140\n",
      "index 3614 - Error 0.50191\n",
      "index 3664 - Error 1.78359\n",
      "index 3714 - Error 0.68954\n",
      "index 3764 - Error 5.84464\n",
      "index 3814 - Error 0.33286\n",
      "Mean Error = 27.02823\n"
     ]
    }
   ],
   "source": [
    "mean_error = []\n",
    "\n",
    "#df.index = range(len(df.index))\n",
    "#raw.reset_index()\n",
    "#print raw[350:370]\n",
    "print mindat,maxdat\n",
    "for i in range(mindat+1,maxdat,50):\n",
    "    train = raw[raw.index < i]\n",
    "    val = raw[(raw.index >= i) & (raw.index < i+50)]\n",
    "    \n",
    "    p = val['var1(t-1)'].values\n",
    "    \n",
    "    error = rmse(val['var1(t)'].values, p)\n",
    "#    if i % 50 == 0:\n",
    "    print('index %d - Error %.5f' % (i, error))\n",
    "    mean_error.append(error)\n",
    "print('Mean Error = %.5f' % numpy.mean(mean_error))"
   ]
  },
  {
   "cell_type": "code",
   "execution_count": 17,
   "metadata": {},
   "outputs": [],
   "source": [
    "from sklearn.metrics import mean_squared_log_error, mean_squared_error\n",
    "def rmsle(ytrue, ypred):\n",
    "    return numpy.sqrt(mean_squared_log_error(ytrue, ypred))\n",
    "\n",
    "def rmse(ytrue, ypred):\n",
    "    return numpy.sqrt(mean_squared_error(ytrue, ypred))"
   ]
  },
  {
   "cell_type": "code",
   "execution_count": 18,
   "metadata": {},
   "outputs": [
    {
     "name": "stdout",
     "output_type": "stream",
     "text": [
      "index 50 - Error 48.10832\n",
      "index 100 - Error 36.24021\n",
      "index 150 - Error 42.96783\n",
      "index 200 - Error 4.30447\n",
      "index 250 - Error 182.51055\n",
      "index 300 - Error 130.56908\n",
      "index 350 - Error 3.26399\n",
      "index 400 - Error 64.30744\n",
      "index 450 - Error 150.97141\n",
      "index 500 - Error 13.12081\n",
      "index 550 - Error 57.84907\n",
      "index 600 - Error 52.10960\n",
      "index 650 - Error 1.70805\n",
      "index 700 - Error 1.45799\n",
      "index 750 - Error 5.78773\n",
      "index 800 - Error 11.87093\n",
      "index 850 - Error 31.93763\n",
      "index 900 - Error 14.05274\n",
      "index 950 - Error 113.29388\n",
      "index 1000 - Error 136.19091\n",
      "index 1050 - Error 41.57169\n",
      "index 1100 - Error 13.21764\n",
      "index 1150 - Error 9.82365\n",
      "index 1200 - Error 20.62198\n",
      "index 1250 - Error 14.21063\n",
      "index 1300 - Error 1.42295\n",
      "index 1350 - Error 18.56665\n",
      "index 1400 - Error 29.40835\n",
      "index 1450 - Error 22.45923\n",
      "index 1500 - Error 6.96238\n",
      "index 1550 - Error 4.18420\n",
      "index 1600 - Error 7.37631\n",
      "index 1650 - Error 122.69526\n",
      "index 1700 - Error 54.13817\n",
      "index 1750 - Error 4.77387\n",
      "index 1800 - Error 8.23636\n",
      "index 1850 - Error 27.53471\n",
      "index 1900 - Error 18.21915\n",
      "index 1950 - Error 11.57307\n",
      "index 2000 - Error 1.59461\n",
      "index 2050 - Error 8.22306\n",
      "index 2100 - Error 1.63239\n",
      "index 2150 - Error 14.68814\n",
      "index 2200 - Error 12.51636\n",
      "index 2250 - Error 27.71328\n",
      "index 2300 - Error 12.35471\n",
      "index 2350 - Error 1.00334\n",
      "index 2400 - Error 10.56839\n",
      "index 2450 - Error 1.61682\n",
      "index 2500 - Error 7.03886\n",
      "index 2550 - Error 4.79150\n",
      "index 2600 - Error 60.38278\n",
      "index 2650 - Error 114.58097\n",
      "index 2700 - Error 9.83757\n",
      "index 2750 - Error 3.68252\n",
      "index 2800 - Error 0.90174\n",
      "index 2850 - Error 2.32789\n",
      "index 2900 - Error 1.62446\n",
      "index 2950 - Error 6.98505\n",
      "index 3000 - Error 3.55203\n",
      "index 3050 - Error 4.09454\n",
      "index 3100 - Error 13.27029\n",
      "index 3150 - Error 5.47022\n",
      "index 3200 - Error 4.40197\n",
      "index 3250 - Error 0.99160\n",
      "index 3300 - Error 56.68785\n",
      "index 3350 - Error 1.59214\n",
      "index 3400 - Error 2.27235\n",
      "index 3450 - Error 1.74144\n",
      "index 3500 - Error 2.78881\n",
      "index 3550 - Error 2.58203\n",
      "index 3600 - Error 2.60895\n",
      "index 3650 - Error 2.02482\n",
      "index 3700 - Error 1.39455\n",
      "index 3750 - Error 14.60604\n",
      "index 3800 - Error 8.44374\n",
      "Mean Error = 25.95009\n"
     ]
    }
   ],
   "source": [
    "from sklearn.linear_model import LogisticRegression\n",
    "from sklearn.linear_model import Ridge, SGDRegressor\n",
    "from sklearn.ensemble import RandomForestRegressor, GradientBoostingRegressor\n",
    "from sklearn.linear_model import LinearRegression\n",
    "from sklearn.neighbors import KNeighborsRegressor\n",
    "from sklearn.neural_network import MLPRegressor, BernoulliRBM\n",
    "\n",
    "mean_error = []\n",
    "for i in range(50,maxdat,50):\n",
    "    train = raw[raw.index < i]\n",
    "    val = raw[(raw.index >= i)&(raw.index < i+50)]\n",
    "    \n",
    "    xtr, xts = train.drop(['var1(t)'], axis=1), val.drop(['var1(t)'], axis=1)\n",
    "    ytr, yts = train['var1(t)'].values, val['var1(t)'].values\n",
    "    \n",
    "#    mdl = RandomForestRegressor(n_estimators=100, n_jobs=-1, random_state=0)\n",
    "#    mdl = Ridge()\n",
    "    mdl = GradientBoostingRegressor(n_estimators=1000)#, learning_rate=0.01)\n",
    "#    mdl = KNeighborsRegressor(n_neighbors=20)\n",
    "#    mdl = MLPRegressor(hidden_layer_sizes=(1, ))#,solver='lbfgs',alpha=.0001)\n",
    "#    mdl = MLPRegressor(hidden_layer_sizes=(1000, ),solver='lbfgs',alpha=.0001)\n",
    "    mdl.fit(xtr, ytr)\n",
    "    \n",
    "    p = mdl.predict(xts)\n",
    "    \n",
    "#    print yts,p\n",
    "#    if p > 0:\n",
    "    error = rmse(yts, p)\n",
    "#    else:\n",
    "#        error = numpy.nan #numpy.log(abs(yts-p))\n",
    "    if i % 50 == 0:\n",
    "        print('index %d - Error %.5f' % (i, error))\n",
    "    mean_error.append(error)\n",
    "print('Mean Error = %.5f' % numpy.nanmean(mean_error))"
   ]
  },
  {
   "cell_type": "code",
   "execution_count": 33,
   "metadata": {},
   "outputs": [
    {
     "name": "stdout",
     "output_type": "stream",
     "text": [
      "{'WA': array([ 0.]), 'DE': array([ 0.]), 'WI': array([ 0.]), 'WV': array([ 0.12590392]), 'HI': array([ 0.98967315]), 'FL': array([ 0.]), 'WY': array([ 2.47406451]), 'NH': array([ 0.]), 'NJ': array([ 0.]), 'NM': array([ 0.]), 'TX': array([ 4.10262567]), 'LA': array([ 0.]), 'NC': array([ 0.]), 'ND': array([ 0.37678574]), 'NE': array([ 0.]), 'TN': array([ 0.]), 'NY': array([ 0.]), 'PA': array([ 0.]), 'RI': array([ 0.]), 'NV': array([ 0.]), 'VA': array([ 0.]), 'CO': array([ 0.]), 'AK': array([ 1.28800058]), 'AL': array([ 0.]), 'AR': array([ 0.]), 'VT': array([ 2.32357689]), 'IL': array([ 0.]), 'GA': array([ 0.]), 'IN': array([ 0.]), 'IA': array([ 0.]), 'MA': array([ 0.]), 'AZ': array([ 0.]), 'CA': array([ 0.]), 'ID': array([ 0.43986133]), 'CT': array([ 0.]), 'ME': array([ 1.00434692]), 'MD': array([ 0.]), 'OK': array([ 0.]), 'OH': array([ 0.]), 'UT': array([ 0.1103799]), 'MO': array([ 0.]), 'MN': array([ 0.]), 'MI': array([ 0.]), 'KS': array([ 0.]), 'MT': array([ 2.05894413]), 'MS': array([ 0.]), 'SC': array([ 0.]), 'KY': array([ 0.]), 'OR': array([ 0.]), 'SD': array([ 1.59350702])}\n"
     ]
    },
    {
     "data": {
      "text/plain": [
       "<BarContainer object of 50 artists>"
      ]
     },
     "execution_count": 33,
     "metadata": {},
     "output_type": "execute_result"
    },
    {
     "data": {
      "image/png": "[encoded data removed]",
      "text/plain": [
       "<Figure size 432x288 with 1 Axes>"
      ]
     },
     "metadata": {},
     "output_type": "display_data"
    }
   ],
   "source": [
    "from sklearn.linear_model import LogisticRegression\n",
    "from sklearn.linear_model import Ridge, SGDRegressor\n",
    "from sklearn.ensemble import RandomForestRegressor, GradientBoostingRegressor\n",
    "from sklearn.linear_model import LinearRegression\n",
    "from sklearn.neighbors import KNeighborsRegressor\n",
    "from sklearn.neural_network import MLPRegressor, BernoulliRBM\n",
    "mean_error = []\n",
    "train = raw[raw.index <= maxdat]\n",
    "    \n",
    "xtr = train.drop(['var1(t)'], axis=1)#, val.drop(['var1(t)'], axis=1)\n",
    "ytr = train['var1(t)'].values#, val['var1(t)'].values\n",
    "    \n",
    "#mdl = RandomForestRegressor(n_estimators=10000, n_jobs=2, random_state=0)\n",
    "#mdl = Ridge(alpha=100)\n",
    "mdl = GradientBoostingRegressor(n_estimators=100, learning_rate=0.01,loss='ls',max_depth=5)\n",
    "#mdl = KNeighborsRegressor(n_neighbors=100)\n",
    "#mdl = MLPRegressor(hidden_layer_sizes=(1, ),solver='lbfgs',alpha=.000001)\n",
    "#mdl = BernoulliRBM()\n",
    "mdl.fit(xtr, ytr)\n",
    "changedict={}\n",
    "for key in testing.keys():\n",
    "    xts = testing[key].drop(['var1(t)'],axis=1)\n",
    "    yts = testing[key]['var1(t)'].values\n",
    "    gdp = stateinfo[(stateinfo['State']==key)]['2015'].values\n",
    "\n",
    "    p0 = mdl.predict(xts)\n",
    "#    print 'State: '+key#,xts,yts\n",
    "    for rebate in range(10000,110000,30000):\n",
    "        oldreb0 = xts['var2(t)']\n",
    "        oldreb1 = xts['var2(t-1)']\n",
    "        oldreb2 = xts['var2(t-2)']\n",
    "    #    oldreb3 = xts['var2(t-3)']\n",
    "    #    oldreb4 = xts['var2(t-4)']\n",
    "    #    oldreb5 = xts['var2(t-5)']\n",
    "        xts['var2(t)'] = oldreb0 + rebate*1./3/gdp\n",
    "        xts['var2(t-1)'] = oldreb1 + rebate*1./3/gdp\n",
    "        xts['var2(t-2)'] = oldreb2 + rebate*1./3/gdp\n",
    "    #    xts['var2(t-3)'] = oldreb3 + rebate*1\n",
    "    #    xts['var2(t-4)'] = oldreb4 + rebate*1\n",
    "    #    xts['var2(t-5)'] = oldreb5 + rebate*1\n",
    "    \n",
    "\n",
    "        p = mdl.predict(xts)\n",
    "    \n",
    "        change  = p-p0\n",
    "        changedict[key] = change/rebate*gdp\n",
    "#        print('rebate %d - change %.5f' % (rebate, change))\n",
    "print changedict\n",
    "nstates = range(len(changedict.values()))\n",
    "statelabels = changedict.keys(),\n",
    "changes = [float(changedict[key]) for key in changedict.keys()]\n",
    "pyplot.bar(nstates,changes,align='center')\n",
    "#pyplot.xticks(nstates,statelabels)"
   ]
  },
  {
   "cell_type": "code",
   "execution_count": 34,
   "metadata": {},
   "outputs": [
    {
     "name": "stdout",
     "output_type": "stream",
     "text": [
      "[('AK', array([ 1.92807694])), ('AL', array([ 0.])), ('AR', array([ 0.])), ('AZ', array([ 0.])), ('CA', array([ 0.])), ('CO', array([ 0.])), ('CT', array([ 0.])), ('DE', array([ 0.])), ('FL', array([ 0.])), ('GA', array([ 0.])), ('HI', array([ 0.51524082])), ('IA', array([ 0.])), ('ID', array([ 0.21993067])), ('IL', array([ 0.])), ('IN', array([ 0.])), ('KS', array([ 0.])), ('KY', array([ 0.])), ('LA', array([ 0.])), ('MA', array([ 0.])), ('MD', array([ 0.])), ('ME', array([ 2.10431246])), ('MI', array([ 0.])), ('MN', array([ 0.])), ('MO', array([ 0.])), ('MS', array([ 0.02127989])), ('MT', array([ 1.02947206])), ('NC', array([ 0.])), ('ND', array([ 0.94894826])), ('NE', array([ 0.02326428])), ('NH', array([ 0.])), ('NJ', array([ 0.])), ('NM', array([ 0.])), ('NV', array([ 0.])), ('NY', array([ 0.])), ('OH', array([ 0.])), ('OK', array([ 0.])), ('OR', array([ 0.])), ('PA', array([ 0.])), ('RI', array([ 0.])), ('SC', array([ 0.])), ('SD', array([ 0.79675351])), ('TN', array([ 0.])), ('TX', array([ 2.05131284])), ('UT', array([ 0.23597725])), ('VA', array([ 0.])), ('VT', array([ 1.16178844])), ('WA', array([ 0.])), ('WI', array([ 0.])), ('WV', array([ 0.2430825])), ('WY', array([ 1.75757377]))]\n"
     ]
    },
    {
     "data": {
      "text/plain": [
       "<BarContainer object of 50 artists>"
      ]
     },
     "execution_count": 34,
     "metadata": {},
     "output_type": "execute_result"
    },
    {
     "data": {
      "image/png": "[encoded data removed]",
      "text/plain": [
       "<Figure size 432x288 with 1 Axes>"
      ]
     },
     "metadata": {},
     "output_type": "display_data"
    }
   ],
   "source": [
    "changedict={}\n",
    "for key in testing.keys():\n",
    "    xts = testing[key].drop(['var1(t)'],axis=1)\n",
    "    yts = testing[key]['var1(t)'].values\n",
    "    gdp = stateinfo[(stateinfo['State']==key)]['2015'].values[0]\n",
    "#    print gdp\n",
    "    p0 = mdl.predict(xts)\n",
    "#    print 'State: '+key#,xts,yts\n",
    "    for rebate in range(50000,250000,50000):\n",
    "        oldreb0 = xts['var2(t)']\n",
    "        oldreb1 = xts['var2(t-1)']\n",
    "        oldreb2 = xts['var2(t-2)']\n",
    "        oldreb3 = xts['var2(t-3)']\n",
    "        oldreb4 = xts['var2(t-4)']\n",
    "        oldreb5 = xts['var2(t-5)']\n",
    "        xts['var2(t)'] = oldreb0 + rebate*1/6./gdp\n",
    "        xts['var2(t-1)'] = oldreb1 + rebate*1/6./gdp\n",
    "        xts['var2(t-2)'] = oldreb2 + rebate*1/6./gdp\n",
    "        xts['var2(t-3)'] = oldreb3 + rebate*1/6./gdp\n",
    "        xts['var2(t-4)'] = oldreb4 + rebate*1/6./gdp\n",
    "        xts['var2(t-5)'] = oldreb5 + rebate*1/6./gdp\n",
    "    \n",
    "\n",
    "        p = mdl.predict(xts)\n",
    "    \n",
    "        change  = p-p0\n",
    "        changedict[key] = change/rebate*gdp\n",
    "#        print('rebate %d - change %.5f' % (rebate, change))\n",
    "print sorted(changedict.items())\n",
    "nstates = range(len(changedict.values()))\n",
    "statelabels = changedict.keys(),\n",
    "changes = [float(changedict[key]) for key in sorted(changedict.keys())]\n",
    "pyplot.bar(nstates,changes,align='center')\n",
    "#pyplot.xticks(nstates,statelabels)"
   ]
  },
  {
   "cell_type": "code",
   "execution_count": 21,
   "metadata": {},
   "outputs": [
    {
     "data": {
      "image/png": "[encoded data removed]",
      "text/plain": [
       "<Figure size 432x288 with 1 Axes>"
      ]
     },
     "metadata": {},
     "output_type": "display_data"
    }
   ],
   "source": [
    "this_state = df['state'].value_counts().index[0]\n",
    "ax1=df[(df['state']==this_state)].groupby(['year']).sum()['rebates'].plot(logy=True,xlim=(1995,2015))\n",
    "ax1=df[(df['state']==this_state)].groupby(['year']).sum()['cost'].plot(logy=True,xlim=(1995,2015))\n",
    "ax1=df[(df['state']==this_state)].groupby(['year']).sum()['size_kw'].plot(logy=True,xlim=(1995,2015))\n",
    "ax1=df[(df['state']==this_state)].groupby(['year']).sum()['count'].plot(logy=True,xlim=(1995,2015))\n",
    "ax1=df[(df['state']==this_state)].groupby(['year']).mean()['cost_per_watt'].plot(logy=True,xlim=(1995,2015))\n",
    "ax1=df[(df['state']==this_state)].groupby(['year']).sum()['annual_PV_prod'].plot(logy=True,xlim=(1995,2015))\n",
    "ax1=df[(df['state']==this_state)].groupby(['year']).sum()['reported_annual_energy_prod'].plot(logy=True,xlim=(1995,2015))\n",
    "ax1=df[(df['state']==this_state)].groupby(['year']).mean()['pct_reported_prod'].plot(logy=True,xlim=(1995,2015))\n",
    "ax1=df[(df['state']==this_state)].groupby(['year']).mean()['annual_insolation'].plot(logy=True,xlim=(1995,2015))"
   ]
  },
  {
   "cell_type": "code",
   "execution_count": 126,
   "metadata": {},
   "outputs": [],
   "source": [
    "\n",
    "mldf = df[['state','date','size_kw','new_insolation','cost','cost_per_watt','year','count','rebates','reported_annual_energy_prod','annual_PV_prod','tilt1','azimuth1','install_type']].copy()\n",
    "mldftest = df[['state','date','size_kw','annual_insolation','cost','cost_per_watt','year','count','rebates','reported_annual_energy_prod','annual_PV_prod','tilt1','azimuth1','install_type']]"
   ]
  },
  {
   "cell_type": "code",
   "execution_count": 128,
   "metadata": {},
   "outputs": [
    {
     "data": {
      "text/html": [
       "<div>\n",
       "<style scoped>\n",
       "    .dataframe tbody tr th:only-of-type {\n",
       "        vertical-align: middle;\n",
       "    }\n",
       "\n",
       "    .dataframe tbody tr th {\n",
       "        vertical-align: top;\n",
       "    }\n",
       "\n",
       "    .dataframe thead th {\n",
       "        text-align: right;\n",
       "    }\n",
       "</style>\n",
       "<table border=\"1\" class=\"dataframe\">\n",
       "  <thead>\n",
       "    <tr style=\"text-align: right;\">\n",
       "      <th></th>\n",
       "      <th>state</th>\n",
       "      <th>date</th>\n",
       "      <th>size_kw</th>\n",
       "      <th>new_insolation</th>\n",
       "      <th>cost</th>\n",
       "      <th>cost_per_watt</th>\n",
       "      <th>year</th>\n",
       "      <th>count</th>\n",
       "      <th>rebates</th>\n",
       "      <th>reported_annual_energy_prod</th>\n",
       "      <th>annual_PV_prod</th>\n",
       "      <th>tilt1</th>\n",
       "      <th>azimuth1</th>\n",
       "      <th>install_type</th>\n",
       "    </tr>\n",
       "  </thead>\n",
       "  <tbody>\n",
       "    <tr>\n",
       "      <th>0</th>\n",
       "      <td>TX</td>\n",
       "      <td>2013-12-15</td>\n",
       "      <td>10.560</td>\n",
       "      <td>5.157692</td>\n",
       "      <td>30600.53</td>\n",
       "      <td>2.897777</td>\n",
       "      <td>2013.0</td>\n",
       "      <td>1.0</td>\n",
       "      <td>15000.0</td>\n",
       "      <td>13836.0</td>\n",
       "      <td>14999.831600</td>\n",
       "      <td>10.0</td>\n",
       "      <td>180.0</td>\n",
       "      <td>residential</td>\n",
       "    </tr>\n",
       "    <tr>\n",
       "      <th>1</th>\n",
       "      <td>TX</td>\n",
       "      <td>2014-07-15</td>\n",
       "      <td>12.720</td>\n",
       "      <td>5.085633</td>\n",
       "      <td>40000.00</td>\n",
       "      <td>3.144654</td>\n",
       "      <td>2014.0</td>\n",
       "      <td>1.0</td>\n",
       "      <td>15000.0</td>\n",
       "      <td>16419.0</td>\n",
       "      <td>17811.574390</td>\n",
       "      <td>7.0</td>\n",
       "      <td>180.0</td>\n",
       "      <td>residential</td>\n",
       "    </tr>\n",
       "    <tr>\n",
       "      <th>2</th>\n",
       "      <td>TX</td>\n",
       "      <td>2014-01-15</td>\n",
       "      <td>5.400</td>\n",
       "      <td>5.262714</td>\n",
       "      <td>22665.58</td>\n",
       "      <td>4.197330</td>\n",
       "      <td>2014.0</td>\n",
       "      <td>1.0</td>\n",
       "      <td>7735.5</td>\n",
       "      <td>7235.0</td>\n",
       "      <td>7833.742822</td>\n",
       "      <td>18.5</td>\n",
       "      <td>165.0</td>\n",
       "      <td>residential</td>\n",
       "    </tr>\n",
       "    <tr>\n",
       "      <th>3</th>\n",
       "      <td>IN</td>\n",
       "      <td>2017-10-15</td>\n",
       "      <td>6.785</td>\n",
       "      <td>4.560000</td>\n",
       "      <td>17550.00</td>\n",
       "      <td>2.590000</td>\n",
       "      <td>2017.0</td>\n",
       "      <td>1.0</td>\n",
       "      <td>NaN</td>\n",
       "      <td>NaN</td>\n",
       "      <td>NaN</td>\n",
       "      <td>NaN</td>\n",
       "      <td>NaN</td>\n",
       "      <td>residential</td>\n",
       "    </tr>\n",
       "    <tr>\n",
       "      <th>4</th>\n",
       "      <td>IN</td>\n",
       "      <td>2017-10-15</td>\n",
       "      <td>4.720</td>\n",
       "      <td>4.560000</td>\n",
       "      <td>12150.00</td>\n",
       "      <td>2.570000</td>\n",
       "      <td>2017.0</td>\n",
       "      <td>1.0</td>\n",
       "      <td>NaN</td>\n",
       "      <td>NaN</td>\n",
       "      <td>NaN</td>\n",
       "      <td>NaN</td>\n",
       "      <td>NaN</td>\n",
       "      <td>residential</td>\n",
       "    </tr>\n",
       "  </tbody>\n",
       "</table>\n",
       "</div>"
      ],
      "text/plain": [
       "  state       date  size_kw  new_insolation      cost  cost_per_watt    year  \\\n",
       "0    TX 2013-12-15   10.560        5.157692  30600.53       2.897777  2013.0   \n",
       "1    TX 2014-07-15   12.720        5.085633  40000.00       3.144654  2014.0   \n",
       "2    TX 2014-01-15    5.400        5.262714  22665.58       4.197330  2014.0   \n",
       "3    IN 2017-10-15    6.785        4.560000  17550.00       2.590000  2017.0   \n",
       "4    IN 2017-10-15    4.720        4.560000  12150.00       2.570000  2017.0   \n",
       "\n",
       "   count  rebates  reported_annual_energy_prod  annual_PV_prod  tilt1  \\\n",
       "0    1.0  15000.0                      13836.0    14999.831600   10.0   \n",
       "1    1.0  15000.0                      16419.0    17811.574390    7.0   \n",
       "2    1.0   7735.5                       7235.0     7833.742822   18.5   \n",
       "3    1.0      NaN                          NaN             NaN    NaN   \n",
       "4    1.0      NaN                          NaN             NaN    NaN   \n",
       "\n",
       "   azimuth1 install_type  \n",
       "0     180.0  residential  \n",
       "1     180.0  residential  \n",
       "2     165.0  residential  \n",
       "3       NaN  residential  \n",
       "4       NaN  residential  "
      ]
     },
     "execution_count": 128,
     "metadata": {},
     "output_type": "execute_result"
    }
   ],
   "source": [
    "mldf.head()"
   ]
  },
  {
   "cell_type": "code",
   "execution_count": 49,
   "metadata": {},
   "outputs": [
    {
     "data": {
      "text/plain": [
       "<matplotlib.axes._subplots.AxesSubplot at 0x1c797080>"
      ]
     },
     "execution_count": 49,
     "metadata": {},
     "output_type": "execute_result"
    },
    {
     "data": {
      "image/png": "[encoded data removed]",
      "text/plain": [
       "<Figure size 720x576 with 2 Axes>"
      ]
     },
     "metadata": {},
     "output_type": "display_data"
    }
   ],
   "source": [
    "import seaborn as sns\n",
    "\n",
    "f, ax = pyplot.subplots(figsize=(10, 8))\n",
    "corr = mldftest.corr()\n",
    "sns.heatmap(corr, mask=numpy.zeros_like(corr, dtype=numpy.bool), cmap=sns.diverging_palette(220, 10, as_cmap=True),\n",
    "            square=True, ax=ax,vmin=-1, vmax=1)"
   ]
  },
  {
   "cell_type": "code",
   "execution_count": 6,
   "metadata": {},
   "outputs": [],
   "source": [
    "mldftest['rebates'] = df['rebates']*1.\n",
    "mldftest['annual_insolation'] = df['annual_insolation']*1."
   ]
  },
  {
   "cell_type": "code",
   "execution_count": 62,
   "metadata": {},
   "outputs": [
    {
     "ename": "KeyError",
     "evalue": "'annual_insolation'",
     "output_type": "error",
     "traceback": [
      "\u001b[1;31m---------------------------------------------------------------------------\u001b[0m",
      "\u001b[1;31mKeyError\u001b[0m                                  Traceback (most recent call last)",
      "\u001b[1;32m<ipython-input-62-757948a73afc>\u001b[0m in \u001b[0;36m<module>\u001b[1;34m()\u001b[0m\n\u001b[0;32m      1\u001b[0m \u001b[0mrep_energy_prod\u001b[0m \u001b[1;33m=\u001b[0m \u001b[0mmldf\u001b[0m\u001b[1;33m[\u001b[0m\u001b[1;33m(\u001b[0m\u001b[0mmldf\u001b[0m\u001b[1;33m[\u001b[0m\u001b[1;34m'reported_annual_energy_prod'\u001b[0m\u001b[1;33m]\u001b[0m\u001b[1;33m>\u001b[0m\u001b[1;36m0\u001b[0m\u001b[1;33m)\u001b[0m\u001b[1;33m&\u001b[0m\u001b[1;33m(\u001b[0m\u001b[0mdf\u001b[0m\u001b[1;33m[\u001b[0m\u001b[1;34m'install_type'\u001b[0m\u001b[1;33m]\u001b[0m\u001b[1;33m==\u001b[0m\u001b[1;34m'residential'\u001b[0m\u001b[1;33m)\u001b[0m\u001b[1;33m]\u001b[0m\u001b[1;33m[\u001b[0m\u001b[1;34m'reported_annual_energy_prod'\u001b[0m\u001b[1;33m]\u001b[0m\u001b[1;33m\u001b[0m\u001b[0m\n\u001b[0;32m      2\u001b[0m \u001b[0mann_energy_prod\u001b[0m \u001b[1;33m=\u001b[0m \u001b[0mmldf\u001b[0m\u001b[1;33m[\u001b[0m\u001b[1;33m(\u001b[0m\u001b[0mmldf\u001b[0m\u001b[1;33m[\u001b[0m\u001b[1;34m'reported_annual_energy_prod'\u001b[0m\u001b[1;33m]\u001b[0m\u001b[1;33m>\u001b[0m\u001b[1;36m0\u001b[0m\u001b[1;33m)\u001b[0m\u001b[1;33m&\u001b[0m\u001b[1;33m(\u001b[0m\u001b[0mdf\u001b[0m\u001b[1;33m[\u001b[0m\u001b[1;34m'install_type'\u001b[0m\u001b[1;33m]\u001b[0m\u001b[1;33m==\u001b[0m\u001b[1;34m'residential'\u001b[0m\u001b[1;33m)\u001b[0m\u001b[1;33m]\u001b[0m\u001b[1;33m[\u001b[0m\u001b[1;34m'annual_PV_prod'\u001b[0m\u001b[1;33m]\u001b[0m\u001b[1;33m\u001b[0m\u001b[0m\n\u001b[1;32m----> 3\u001b[1;33m \u001b[0mann_insol\u001b[0m \u001b[1;33m=\u001b[0m \u001b[0mmldf\u001b[0m\u001b[1;33m[\u001b[0m\u001b[1;33m(\u001b[0m\u001b[0mmldf\u001b[0m\u001b[1;33m[\u001b[0m\u001b[1;34m'reported_annual_energy_prod'\u001b[0m\u001b[1;33m]\u001b[0m\u001b[1;33m>\u001b[0m\u001b[1;36m0\u001b[0m\u001b[1;33m)\u001b[0m\u001b[1;33m&\u001b[0m\u001b[1;33m(\u001b[0m\u001b[0mdf\u001b[0m\u001b[1;33m[\u001b[0m\u001b[1;34m'install_type'\u001b[0m\u001b[1;33m]\u001b[0m\u001b[1;33m==\u001b[0m\u001b[1;34m'residential'\u001b[0m\u001b[1;33m)\u001b[0m\u001b[1;33m]\u001b[0m\u001b[1;33m[\u001b[0m\u001b[1;34m'annual_insolation'\u001b[0m\u001b[1;33m]\u001b[0m\u001b[1;33m\u001b[0m\u001b[0m\n\u001b[0m\u001b[0;32m      4\u001b[0m \u001b[0msize\u001b[0m \u001b[1;33m=\u001b[0m \u001b[0mmldf\u001b[0m\u001b[1;33m[\u001b[0m\u001b[1;33m(\u001b[0m\u001b[0mmldf\u001b[0m\u001b[1;33m[\u001b[0m\u001b[1;34m'reported_annual_energy_prod'\u001b[0m\u001b[1;33m]\u001b[0m\u001b[1;33m>\u001b[0m\u001b[1;36m0\u001b[0m\u001b[1;33m)\u001b[0m\u001b[1;33m&\u001b[0m\u001b[1;33m(\u001b[0m\u001b[0mdf\u001b[0m\u001b[1;33m[\u001b[0m\u001b[1;34m'install_type'\u001b[0m\u001b[1;33m]\u001b[0m\u001b[1;33m==\u001b[0m\u001b[1;34m'residential'\u001b[0m\u001b[1;33m)\u001b[0m\u001b[1;33m]\u001b[0m\u001b[1;33m[\u001b[0m\u001b[1;34m'size_kw'\u001b[0m\u001b[1;33m]\u001b[0m\u001b[1;33m\u001b[0m\u001b[0m\n\u001b[0;32m      5\u001b[0m \u001b[0menergy_prod_ratio\u001b[0m \u001b[1;33m=\u001b[0m \u001b[1;36m1\u001b[0m\u001b[1;33m/\u001b[0m\u001b[1;33m(\u001b[0m\u001b[0mrep_energy_prod\u001b[0m\u001b[1;33m/\u001b[0m\u001b[0mann_insol\u001b[0m\u001b[1;33m/\u001b[0m\u001b[0msize\u001b[0m\u001b[1;33m)\u001b[0m\u001b[1;33m\u001b[0m\u001b[0m\n",
      "\u001b[1;32mC:\\ProgramData\\Anaconda2\\lib\\site-packages\\pandas\\core\\frame.pyc\u001b[0m in \u001b[0;36m__getitem__\u001b[1;34m(self, key)\u001b[0m\n\u001b[0;32m   2686\u001b[0m             \u001b[1;32mreturn\u001b[0m \u001b[0mself\u001b[0m\u001b[1;33m.\u001b[0m\u001b[0m_getitem_multilevel\u001b[0m\u001b[1;33m(\u001b[0m\u001b[0mkey\u001b[0m\u001b[1;33m)\u001b[0m\u001b[1;33m\u001b[0m\u001b[0m\n\u001b[0;32m   2687\u001b[0m         \u001b[1;32melse\u001b[0m\u001b[1;33m:\u001b[0m\u001b[1;33m\u001b[0m\u001b[0m\n\u001b[1;32m-> 2688\u001b[1;33m             \u001b[1;32mreturn\u001b[0m \u001b[0mself\u001b[0m\u001b[1;33m.\u001b[0m\u001b[0m_getitem_column\u001b[0m\u001b[1;33m(\u001b[0m\u001b[0mkey\u001b[0m\u001b[1;33m)\u001b[0m\u001b[1;33m\u001b[0m\u001b[0m\n\u001b[0m\u001b[0;32m   2689\u001b[0m \u001b[1;33m\u001b[0m\u001b[0m\n\u001b[0;32m   2690\u001b[0m     \u001b[1;32mdef\u001b[0m \u001b[0m_getitem_column\u001b[0m\u001b[1;33m(\u001b[0m\u001b[0mself\u001b[0m\u001b[1;33m,\u001b[0m \u001b[0mkey\u001b[0m\u001b[1;33m)\u001b[0m\u001b[1;33m:\u001b[0m\u001b[1;33m\u001b[0m\u001b[0m\n",
      "\u001b[1;32mC:\\ProgramData\\Anaconda2\\lib\\site-packages\\pandas\\core\\frame.pyc\u001b[0m in \u001b[0;36m_getitem_column\u001b[1;34m(self, key)\u001b[0m\n\u001b[0;32m   2693\u001b[0m         \u001b[1;31m# get column\u001b[0m\u001b[1;33m\u001b[0m\u001b[1;33m\u001b[0m\u001b[0m\n\u001b[0;32m   2694\u001b[0m         \u001b[1;32mif\u001b[0m \u001b[0mself\u001b[0m\u001b[1;33m.\u001b[0m\u001b[0mcolumns\u001b[0m\u001b[1;33m.\u001b[0m\u001b[0mis_unique\u001b[0m\u001b[1;33m:\u001b[0m\u001b[1;33m\u001b[0m\u001b[0m\n\u001b[1;32m-> 2695\u001b[1;33m             \u001b[1;32mreturn\u001b[0m \u001b[0mself\u001b[0m\u001b[1;33m.\u001b[0m\u001b[0m_get_item_cache\u001b[0m\u001b[1;33m(\u001b[0m\u001b[0mkey\u001b[0m\u001b[1;33m)\u001b[0m\u001b[1;33m\u001b[0m\u001b[0m\n\u001b[0m\u001b[0;32m   2696\u001b[0m \u001b[1;33m\u001b[0m\u001b[0m\n\u001b[0;32m   2697\u001b[0m         \u001b[1;31m# duplicate columns & possible reduce dimensionality\u001b[0m\u001b[1;33m\u001b[0m\u001b[1;33m\u001b[0m\u001b[0m\n",
      "\u001b[1;32mC:\\ProgramData\\Anaconda2\\lib\\site-packages\\pandas\\core\\generic.pyc\u001b[0m in \u001b[0;36m_get_item_cache\u001b[1;34m(self, item)\u001b[0m\n\u001b[0;32m   2484\u001b[0m         \u001b[0mres\u001b[0m \u001b[1;33m=\u001b[0m \u001b[0mcache\u001b[0m\u001b[1;33m.\u001b[0m\u001b[0mget\u001b[0m\u001b[1;33m(\u001b[0m\u001b[0mitem\u001b[0m\u001b[1;33m)\u001b[0m\u001b[1;33m\u001b[0m\u001b[0m\n\u001b[0;32m   2485\u001b[0m         \u001b[1;32mif\u001b[0m \u001b[0mres\u001b[0m \u001b[1;32mis\u001b[0m \u001b[0mNone\u001b[0m\u001b[1;33m:\u001b[0m\u001b[1;33m\u001b[0m\u001b[0m\n\u001b[1;32m-> 2486\u001b[1;33m             \u001b[0mvalues\u001b[0m \u001b[1;33m=\u001b[0m \u001b[0mself\u001b[0m\u001b[1;33m.\u001b[0m\u001b[0m_data\u001b[0m\u001b[1;33m.\u001b[0m\u001b[0mget\u001b[0m\u001b[1;33m(\u001b[0m\u001b[0mitem\u001b[0m\u001b[1;33m)\u001b[0m\u001b[1;33m\u001b[0m\u001b[0m\n\u001b[0m\u001b[0;32m   2487\u001b[0m             \u001b[0mres\u001b[0m \u001b[1;33m=\u001b[0m \u001b[0mself\u001b[0m\u001b[1;33m.\u001b[0m\u001b[0m_box_item_values\u001b[0m\u001b[1;33m(\u001b[0m\u001b[0mitem\u001b[0m\u001b[1;33m,\u001b[0m \u001b[0mvalues\u001b[0m\u001b[1;33m)\u001b[0m\u001b[1;33m\u001b[0m\u001b[0m\n\u001b[0;32m   2488\u001b[0m             \u001b[0mcache\u001b[0m\u001b[1;33m[\u001b[0m\u001b[0mitem\u001b[0m\u001b[1;33m]\u001b[0m \u001b[1;33m=\u001b[0m \u001b[0mres\u001b[0m\u001b[1;33m\u001b[0m\u001b[0m\n",
      "\u001b[1;32mC:\\ProgramData\\Anaconda2\\lib\\site-packages\\pandas\\core\\internals.pyc\u001b[0m in \u001b[0;36mget\u001b[1;34m(self, item, fastpath)\u001b[0m\n\u001b[0;32m   4113\u001b[0m \u001b[1;33m\u001b[0m\u001b[0m\n\u001b[0;32m   4114\u001b[0m             \u001b[1;32mif\u001b[0m \u001b[1;32mnot\u001b[0m \u001b[0misna\u001b[0m\u001b[1;33m(\u001b[0m\u001b[0mitem\u001b[0m\u001b[1;33m)\u001b[0m\u001b[1;33m:\u001b[0m\u001b[1;33m\u001b[0m\u001b[0m\n\u001b[1;32m-> 4115\u001b[1;33m                 \u001b[0mloc\u001b[0m \u001b[1;33m=\u001b[0m \u001b[0mself\u001b[0m\u001b[1;33m.\u001b[0m\u001b[0mitems\u001b[0m\u001b[1;33m.\u001b[0m\u001b[0mget_loc\u001b[0m\u001b[1;33m(\u001b[0m\u001b[0mitem\u001b[0m\u001b[1;33m)\u001b[0m\u001b[1;33m\u001b[0m\u001b[0m\n\u001b[0m\u001b[0;32m   4116\u001b[0m             \u001b[1;32melse\u001b[0m\u001b[1;33m:\u001b[0m\u001b[1;33m\u001b[0m\u001b[0m\n\u001b[0;32m   4117\u001b[0m                 \u001b[0mindexer\u001b[0m \u001b[1;33m=\u001b[0m \u001b[0mnp\u001b[0m\u001b[1;33m.\u001b[0m\u001b[0marange\u001b[0m\u001b[1;33m(\u001b[0m\u001b[0mlen\u001b[0m\u001b[1;33m(\u001b[0m\u001b[0mself\u001b[0m\u001b[1;33m.\u001b[0m\u001b[0mitems\u001b[0m\u001b[1;33m)\u001b[0m\u001b[1;33m)\u001b[0m\u001b[1;33m[\u001b[0m\u001b[0misna\u001b[0m\u001b[1;33m(\u001b[0m\u001b[0mself\u001b[0m\u001b[1;33m.\u001b[0m\u001b[0mitems\u001b[0m\u001b[1;33m)\u001b[0m\u001b[1;33m]\u001b[0m\u001b[1;33m\u001b[0m\u001b[0m\n",
      "\u001b[1;32mC:\\ProgramData\\Anaconda2\\lib\\site-packages\\pandas\\core\\indexes\\base.pyc\u001b[0m in \u001b[0;36mget_loc\u001b[1;34m(self, key, method, tolerance)\u001b[0m\n\u001b[0;32m   3064\u001b[0m                 \u001b[1;32mreturn\u001b[0m \u001b[0mself\u001b[0m\u001b[1;33m.\u001b[0m\u001b[0m_engine\u001b[0m\u001b[1;33m.\u001b[0m\u001b[0mget_loc\u001b[0m\u001b[1;33m(\u001b[0m\u001b[0mkey\u001b[0m\u001b[1;33m)\u001b[0m\u001b[1;33m\u001b[0m\u001b[0m\n\u001b[0;32m   3065\u001b[0m             \u001b[1;32mexcept\u001b[0m \u001b[0mKeyError\u001b[0m\u001b[1;33m:\u001b[0m\u001b[1;33m\u001b[0m\u001b[0m\n\u001b[1;32m-> 3066\u001b[1;33m                 \u001b[1;32mreturn\u001b[0m \u001b[0mself\u001b[0m\u001b[1;33m.\u001b[0m\u001b[0m_engine\u001b[0m\u001b[1;33m.\u001b[0m\u001b[0mget_loc\u001b[0m\u001b[1;33m(\u001b[0m\u001b[0mself\u001b[0m\u001b[1;33m.\u001b[0m\u001b[0m_maybe_cast_indexer\u001b[0m\u001b[1;33m(\u001b[0m\u001b[0mkey\u001b[0m\u001b[1;33m)\u001b[0m\u001b[1;33m)\u001b[0m\u001b[1;33m\u001b[0m\u001b[0m\n\u001b[0m\u001b[0;32m   3067\u001b[0m \u001b[1;33m\u001b[0m\u001b[0m\n\u001b[0;32m   3068\u001b[0m         \u001b[0mindexer\u001b[0m \u001b[1;33m=\u001b[0m \u001b[0mself\u001b[0m\u001b[1;33m.\u001b[0m\u001b[0mget_indexer\u001b[0m\u001b[1;33m(\u001b[0m\u001b[1;33m[\u001b[0m\u001b[0mkey\u001b[0m\u001b[1;33m]\u001b[0m\u001b[1;33m,\u001b[0m \u001b[0mmethod\u001b[0m\u001b[1;33m=\u001b[0m\u001b[0mmethod\u001b[0m\u001b[1;33m,\u001b[0m \u001b[0mtolerance\u001b[0m\u001b[1;33m=\u001b[0m\u001b[0mtolerance\u001b[0m\u001b[1;33m)\u001b[0m\u001b[1;33m\u001b[0m\u001b[0m\n",
      "\u001b[1;32mpandas/_libs/index.pyx\u001b[0m in \u001b[0;36mpandas._libs.index.IndexEngine.get_loc\u001b[1;34m()\u001b[0m\n",
      "\u001b[1;32mpandas/_libs/index.pyx\u001b[0m in \u001b[0;36mpandas._libs.index.IndexEngine.get_loc\u001b[1;34m()\u001b[0m\n",
      "\u001b[1;32mpandas/_libs/hashtable_class_helper.pxi\u001b[0m in \u001b[0;36mpandas._libs.hashtable.PyObjectHashTable.get_item\u001b[1;34m()\u001b[0m\n",
      "\u001b[1;32mpandas/_libs/hashtable_class_helper.pxi\u001b[0m in \u001b[0;36mpandas._libs.hashtable.PyObjectHashTable.get_item\u001b[1;34m()\u001b[0m\n",
      "\u001b[1;31mKeyError\u001b[0m: 'annual_insolation'"
     ]
    }
   ],
   "source": [
    "rep_energy_prod = mldftest[(mldftest['reported_annual_energy_prod']>0)&(df['install_type']=='residential')]['reported_annual_energy_prod']\n",
    "ann_energy_prod = mldftest[(mldftest['reported_annual_energy_prod']>0)&(df['install_type']=='residential')]['annual_PV_prod']\n",
    "ann_insol = mldf[(mldf['reported_annual_energy_prod']>0)&(df['install_type']=='residential')]['annual_insolation']\n",
    "size = mldf[(mldf['reported_annual_energy_prod']>0)&(df['install_type']=='residential')]['size_kw']\n",
    "energy_prod_ratio = 1/(rep_energy_prod/ann_insol/size)\n",
    "energy_prod_ratio.replace(numpy.inf, 1.)\n",
    "energy_prod_ratio.fillna(1.)\n",
    "energy_prod_ratio.isnull().sum().sum()\n",
    "energy_prod_ratio.mean()\n",
    "pyplot.scatter(df['reported_annual_energy_prod']/df['annual_PV_prod'],df['tilt1'])\n",
    "pyplot.xlim(.5,2)\n",
    "#pyplot.ylim(0,360)"
   ]
  },
  {
   "cell_type": "code",
   "execution_count": 40,
   "metadata": {},
   "outputs": [
    {
     "data": {
      "text/plain": [
       "array([[<matplotlib.axes._subplots.AxesSubplot object at 0x0000000015E88BE0>,\n",
       "        <matplotlib.axes._subplots.AxesSubplot object at 0x0000000015E12FD0>,\n",
       "        <matplotlib.axes._subplots.AxesSubplot object at 0x0000000015FA3978>],\n",
       "       [<matplotlib.axes._subplots.AxesSubplot object at 0x000000001607A208>,\n",
       "        <matplotlib.axes._subplots.AxesSubplot object at 0x00000000161BDB00>,\n",
       "        <matplotlib.axes._subplots.AxesSubplot object at 0x0000000016280470>],\n",
       "       [<matplotlib.axes._subplots.AxesSubplot object at 0x0000000016302D68>,\n",
       "        <matplotlib.axes._subplots.AxesSubplot object at 0x00000000163C96D8>,\n",
       "        <matplotlib.axes._subplots.AxesSubplot object at 0x00000000164701D0>]], dtype=object)"
      ]
     },
     "execution_count": 40,
     "metadata": {},
     "output_type": "execute_result"
    },
    {
     "data": {
      "image/png": "[encoded data removed]",
      "text/plain": [
       "<Figure size 432x288 with 9 Axes>"
      ]
     },
     "metadata": {},
     "output_type": "display_data"
    }
   ],
   "source": [
    "train = mldf[(mldf['reported_annual_energy_prod']>0)&(mldf['install_type']=='residential')].loc[:,['annual_insolation','tilt1','azimuth1']]\n",
    "test = mldftest[(mldftest['install_type']=='residential')].loc[:,['annual_insolation','tilt1','azimuth1']]\n",
    "\n",
    "energy_prod_ratio.reset_index()\n",
    "train.reset_index()\n",
    "train.isnull().sum().sum()\n",
    "pandas.plotting.scatter_matrix(df[])"
   ]
  },
  {
   "cell_type": "code",
   "execution_count": 79,
   "metadata": {},
   "outputs": [
    {
     "data": {
      "text/plain": [
       "Pipeline(memory=None,\n",
       "     steps=[('rfr', RandomForestRegressor(bootstrap=True, criterion='mse', max_depth=None,\n",
       "           max_features='auto', max_leaf_nodes=None,\n",
       "           min_impurity_decrease=0.0, min_impurity_split=None,\n",
       "           min_samples_leaf=1, min_samples_split=2,\n",
       "           min_weight_fraction_leaf=0.0, n_estimators=10, n_jobs=1,\n",
       "           oob_score=False, random_state=None, verbose=0, warm_start=False))])"
      ]
     },
     "execution_count": 79,
     "metadata": {},
     "output_type": "execute_result"
    }
   ],
   "source": [
    "from sklearn.pipeline import Pipeline\n",
    "from sklearn.linear_model import LogisticRegression\n",
    "from sklearn.feature_extraction import DictVectorizer\n",
    "from sklearn.linear_model import Ridge\n",
    "from sklearn.ensemble import RandomForestRegressor\n",
    "from sklearn.linear_model import LinearRegression\n",
    "from sklearn.neighbors import KNeighborsRegressor\n",
    "\n",
    "mlpipe = Pipeline([\n",
    "#        ('dvect',DictVectorizer()),\n",
    "#        ('linreg',LinearRegression()),\n",
    "#        ('ridge',Ridge(alpha=0.1)),\n",
    "        ('rfr',RandomForestRegressor()),\n",
    "#        ('knr',KNeighborsRegressor(n_neighbors=3))\n",
    "#        ('resreg',ResidualEstimator(Ridge(alpha = 5000.0),KNeighborsRegressor(n_neighbors=6))),\n",
    "    ])\n",
    "\n",
    "#mlpipe.fit(train,rep_energy_prod)\n",
    "mlpipe.fit(train,energy_prod_ratio)"
   ]
  },
  {
   "cell_type": "code",
   "execution_count": 80,
   "metadata": {},
   "outputs": [],
   "source": [
    "pred1 = mlpipe.predict(test)"
   ]
  },
  {
   "cell_type": "code",
   "execution_count": 81,
   "metadata": {},
   "outputs": [
    {
     "data": {
      "text/plain": [
       "[<matplotlib.lines.Line2D at 0x1f5bf208>]"
      ]
     },
     "execution_count": 81,
     "metadata": {},
     "output_type": "execute_result"
    },
    {
     "data": {
      "image/png": "[encoded data removed]",
      "text/plain": [
       "<Figure size 432x288 with 1 Axes>"
      ]
     },
     "metadata": {},
     "output_type": "display_data"
    }
   ],
   "source": [
    "pyplot.plot(pred1)"
   ]
  },
  {
   "cell_type": "code",
   "execution_count": 8,
   "metadata": {},
   "outputs": [
    {
     "data": {
      "text/plain": [
       "(187336L,)"
      ]
     },
     "execution_count": 8,
     "metadata": {},
     "output_type": "execute_result"
    }
   ],
   "source": [
    "rep_energy_prod.shape"
   ]
  },
  {
   "cell_type": "code",
   "execution_count": 34,
   "metadata": {},
   "outputs": [],
   "source": [
    "train = mldf[(mldf['reported_annual_energy_prod']>0)&(mldf['install_type']=='residential')].loc[:,['size_kw','annual_insolation','cost','year','rebates','tilt1','azimuth1']]\n",
    "test = mldftest[(mldftest['reported_annual_energy_prod']<=0)].loc[:,['size_kw','annual_insolation','cost','year','rebates','tilt1','azimuth1']]\n",
    "test2 = mldf[(mldf['reported_annual_energy_prod']<=0)].loc[:,['size_kw','annual_insolation','cost','year','rebates','tilt1','azimuth1']]\n"
   ]
  },
  {
   "cell_type": "code",
   "execution_count": 35,
   "metadata": {},
   "outputs": [],
   "source": [
    "mldftest['rebates'] = mldf['rebates']*5\n",
    "mldftest['annual_insolation'] = mldf['annual_insolation']*1.\n",
    "train = mldf[(mldf['reported_annual_energy_prod']>0)&(mldf['install_type']=='residential')].loc[:,['size_kw','annual_insolation','cost','year','rebates','tilt1','azimuth1']]\n",
    "test = mldftest[(mldftest['install_type']=='residential')].loc[:,['size_kw','annual_insolation','cost','year','rebates','tilt1','azimuth1']]\n",
    "test2 = mldf[(mldf['install_type']=='residential')].loc[:,['size_kw','annual_insolation','cost','year','rebates','tilt1','azimuth1']]\n"
   ]
  },
  {
   "cell_type": "code",
   "execution_count": 36,
   "metadata": {},
   "outputs": [
    {
     "data": {
      "text/plain": [
       "(908085, 7)"
      ]
     },
     "execution_count": 36,
     "metadata": {},
     "output_type": "execute_result"
    }
   ],
   "source": [
    "train.shape\n",
    "test.shape"
   ]
  },
  {
   "cell_type": "code",
   "execution_count": 37,
   "metadata": {},
   "outputs": [],
   "source": [
    "from sklearn import base\n",
    "class ResidualEstimator(base.BaseEstimator, base.TransformerMixin):\n",
    "    \n",
    "    def __init__(self, est1, est2):\n",
    "        self.est1 = est1\n",
    "        self.est2 = est2\n",
    "        self.y = None\n",
    "        self.residuals = []\n",
    "        self.fit1s = None\n",
    "        \n",
    "    def fit(self, X, y=None):\n",
    "        self.y = y\n",
    "        self.est1.fit(X,y)\n",
    "        self.residuals = self.y-self.est1.predict(X)\n",
    "        self.est2.fit(X,self.residuals)      \n",
    "        return self\n",
    "    \n",
    "    def predict(self, X):\n",
    "        prediction = self.est2.predict(X)+self.est1.predict(X)\n",
    "        return prediction\n"
   ]
  },
  {
   "cell_type": "code",
   "execution_count": 38,
   "metadata": {},
   "outputs": [
    {
     "data": {
      "text/plain": [
       "Pipeline(memory=None,\n",
       "     steps=[('rfr', RandomForestRegressor(bootstrap=True, criterion='mse', max_depth=None,\n",
       "           max_features='auto', max_leaf_nodes=None,\n",
       "           min_impurity_decrease=0.0, min_impurity_split=None,\n",
       "           min_samples_leaf=1, min_samples_split=2,\n",
       "           min_weight_fraction_leaf=0.0, n_estimators=10, n_jobs=1,\n",
       "           oob_score=False, random_state=None, verbose=0, warm_start=False))])"
      ]
     },
     "execution_count": 38,
     "metadata": {},
     "output_type": "execute_result"
    }
   ],
   "source": [
    "from sklearn.pipeline import Pipeline\n",
    "from sklearn.linear_model import LogisticRegression\n",
    "from sklearn.feature_extraction import DictVectorizer\n",
    "from sklearn.linear_model import Ridge\n",
    "from sklearn.ensemble import RandomForestRegressor\n",
    "from sklearn.linear_model import LinearRegression\n",
    "from sklearn.neighbors import KNeighborsRegressor\n",
    "\n",
    "mlpipe = Pipeline([\n",
    "#        ('dvect',DictVectorizer()),\n",
    "#        ('linreg',LinearRegression()),\n",
    "#        ('ridge',Ridge(alpha=0.1)),\n",
    "        ('rfr',RandomForestRegressor()),\n",
    "#        ('knr',KNeighborsRegressor(n_neighbors=3))\n",
    "#        ('resreg',ResidualEstimator(Ridge(alpha = 5000.0),KNeighborsRegressor(n_neighbors=6))),\n",
    "    ])\n",
    "\n",
    "mlpipe.fit(train,rep_energy_prod)\n",
    "#mlpipe.fit(train,energy_prod_ratio)"
   ]
  },
  {
   "cell_type": "code",
   "execution_count": 72,
   "metadata": {},
   "outputs": [],
   "source": [
    "normal = mlpipe.predict(test2)\n",
    "modified = mlpipe.predict(test)"
   ]
  },
  {
   "cell_type": "code",
   "execution_count": 73,
   "metadata": {},
   "outputs": [
    {
     "name": "stdout",
     "output_type": "stream",
     "text": [
      "-0.00350760607221\n"
     ]
    },
    {
     "data": {
      "image/png": "[encoded data removed]",
      "text/plain": [
       "<Figure size 432x288 with 1 Axes>"
      ]
     },
     "metadata": {},
     "output_type": "display_data"
    }
   ],
   "source": [
    "pyplot.plot((normal-modified)/normal)\n",
    "pyplot.ylim(-2,2)\n",
    "print numpy.mean((normal-modified)/normal)"
   ]
  },
  {
   "cell_type": "code",
   "execution_count": 69,
   "metadata": {},
   "outputs": [
    {
     "data": {
      "text/plain": [
       "GridSearchCV(cv=None, error_score='raise',\n",
       "       estimator=Pipeline(memory=None,\n",
       "     steps=[('resreg', ResidualEstimator(est1=Ridge(alpha=5.0, copy_X=True, fit_intercept=True, max_iter=None,\n",
       "   normalize=False, random_state=None, solver='auto', tol=0.001),\n",
       "         est2=KNeighborsRegressor(algorithm='auto', leaf_size=30, metric='minkowski',\n",
       "          metric_params=None, n_jobs=1, n_neighbors=6, p=2,\n",
       "          weights='uniform')))]),\n",
       "       fit_params=None, iid=True, n_jobs=1,\n",
       "       param_grid={'resreg__est1__alpha': [500, 1000, 1500, 2000, 2500, 3000, 3500, 4000, 4500, 5000], 'resreg__est2__n_neighbors': [5, 6, 7]},\n",
       "       pre_dispatch='2*n_jobs', refit=True, return_train_score='warn',\n",
       "       scoring='r2', verbose=0)"
      ]
     },
     "execution_count": 69,
     "metadata": {},
     "output_type": "execute_result"
    }
   ],
   "source": [
    "from sklearn.model_selection import GridSearchCV\n",
    "gs = GridSearchCV(mlpipe,{'resreg__est1__alpha':range(500,5500,500),'resreg__est2__n_neighbors':range(5,8,1)},scoring='r2')\n",
    "#gs = GridSearchCV(mlpipe,{'knr__n_neighbors':range(1,11,1)},scoring='r2')\n",
    "gs.fit(train,rep_energy_prod)\n"
   ]
  },
  {
   "cell_type": "code",
   "execution_count": 70,
   "metadata": {},
   "outputs": [
    {
     "name": "stdout",
     "output_type": "stream",
     "text": [
      "{'resreg__est1__alpha': 5000, 'resreg__est2__n_neighbors': 6}\n"
     ]
    }
   ],
   "source": [
    "print gs.best_params_\n",
    "#print gs.cv_results_"
   ]
  },
  {
   "cell_type": "code",
   "execution_count": null,
   "metadata": {},
   "outputs": [],
   "source": []
  },
  {
   "cell_type": "code",
   "execution_count": 75,
   "metadata": {},
   "outputs": [
    {
     "data": {
      "text/plain": [
       "[<matplotlib.lines.Line2D at 0x17359fd0>]"
      ]
     },
     "execution_count": 75,
     "metadata": {},
     "output_type": "execute_result"
    },
    {
     "data": {
      "image/png": "[encoded data removed]",
      "text/plain": [
       "<Figure size 432x288 with 1 Axes>"
      ]
     },
     "metadata": {},
     "output_type": "display_data"
    }
   ],
   "source": [
    "pyplot.plot(mldftest[(mldftest['install_type']=='residential')]['annual_PV_prod']-normal)\n",
    "pyplot.plot(mldftest[(mldftest['install_type']=='residential')]['annual_PV_prod']-modified)"
   ]
  },
  {
   "cell_type": "code",
   "execution_count": null,
   "metadata": {},
   "outputs": [],
   "source": []
  },
  {
   "cell_type": "code",
   "execution_count": null,
   "metadata": {},
   "outputs": [],
   "source": []
  }
 ],
 "metadata": {
  "kernelspec": {
   "display_name": "Python 2",
   "language": "python",
   "name": "python2"
  },
  "language_info": {
   "codemirror_mode": {
    "name": "ipython",
    "version": 2
   },
   "file_extension": ".py",
   "mimetype": "text/x-python",
   "name": "python",
   "nbconvert_exporter": "python",
   "pygments_lexer": "ipython2",
   "version": "2.7.15"
  }
 },
 "nbformat": 4,
 "nbformat_minor": 2
}
